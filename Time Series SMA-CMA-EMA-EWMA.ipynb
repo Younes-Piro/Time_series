{
 "cells": [
  {
   "cell_type": "markdown",
   "id": "6975ec63",
   "metadata": {},
   "source": [
    "**importing libraries**"
   ]
  },
  {
   "cell_type": "code",
   "execution_count": 4,
   "id": "a7eed075",
   "metadata": {},
   "outputs": [],
   "source": [
    "import pandas as pd\n",
    "from datetime import datetime"
   ]
  },
  {
   "cell_type": "markdown",
   "id": "3933ad00",
   "metadata": {},
   "source": [
    "**reading our dataset**"
   ]
  },
  {
   "cell_type": "code",
   "execution_count": 5,
   "id": "ef636698",
   "metadata": {},
   "outputs": [],
   "source": [
    "df_tesla = pd.read_csv('TeslaStocks.csv')"
   ]
  },
  {
   "cell_type": "code",
   "execution_count": 6,
   "id": "c097cd40",
   "metadata": {},
   "outputs": [
    {
     "data": {
      "text/html": [
       "<div>\n",
       "<style scoped>\n",
       "    .dataframe tbody tr th:only-of-type {\n",
       "        vertical-align: middle;\n",
       "    }\n",
       "\n",
       "    .dataframe tbody tr th {\n",
       "        vertical-align: top;\n",
       "    }\n",
       "\n",
       "    .dataframe thead th {\n",
       "        text-align: right;\n",
       "    }\n",
       "</style>\n",
       "<table border=\"1\" class=\"dataframe\">\n",
       "  <thead>\n",
       "    <tr style=\"text-align: right;\">\n",
       "      <th></th>\n",
       "      <th>Date</th>\n",
       "      <th>Open</th>\n",
       "      <th>High</th>\n",
       "      <th>Low</th>\n",
       "      <th>Close</th>\n",
       "      <th>Adj Close</th>\n",
       "      <th>Volume</th>\n",
       "    </tr>\n",
       "  </thead>\n",
       "  <tbody>\n",
       "    <tr>\n",
       "      <th>0</th>\n",
       "      <td>2010-06-29</td>\n",
       "      <td>1.266667</td>\n",
       "      <td>1.666667</td>\n",
       "      <td>1.169333</td>\n",
       "      <td>1.592667</td>\n",
       "      <td>1.592667</td>\n",
       "      <td>281494500</td>\n",
       "    </tr>\n",
       "    <tr>\n",
       "      <th>1</th>\n",
       "      <td>2010-06-30</td>\n",
       "      <td>1.719333</td>\n",
       "      <td>2.028000</td>\n",
       "      <td>1.553333</td>\n",
       "      <td>1.588667</td>\n",
       "      <td>1.588667</td>\n",
       "      <td>257806500</td>\n",
       "    </tr>\n",
       "    <tr>\n",
       "      <th>2</th>\n",
       "      <td>2010-07-01</td>\n",
       "      <td>1.666667</td>\n",
       "      <td>1.728000</td>\n",
       "      <td>1.351333</td>\n",
       "      <td>1.464000</td>\n",
       "      <td>1.464000</td>\n",
       "      <td>123282000</td>\n",
       "    </tr>\n",
       "    <tr>\n",
       "      <th>3</th>\n",
       "      <td>2010-07-02</td>\n",
       "      <td>1.533333</td>\n",
       "      <td>1.540000</td>\n",
       "      <td>1.247333</td>\n",
       "      <td>1.280000</td>\n",
       "      <td>1.280000</td>\n",
       "      <td>77097000</td>\n",
       "    </tr>\n",
       "    <tr>\n",
       "      <th>4</th>\n",
       "      <td>2010-07-06</td>\n",
       "      <td>1.333333</td>\n",
       "      <td>1.333333</td>\n",
       "      <td>1.055333</td>\n",
       "      <td>1.074000</td>\n",
       "      <td>1.074000</td>\n",
       "      <td>103003500</td>\n",
       "    </tr>\n",
       "    <tr>\n",
       "      <th>...</th>\n",
       "      <td>...</td>\n",
       "      <td>...</td>\n",
       "      <td>...</td>\n",
       "      <td>...</td>\n",
       "      <td>...</td>\n",
       "      <td>...</td>\n",
       "      <td>...</td>\n",
       "    </tr>\n",
       "    <tr>\n",
       "      <th>3171</th>\n",
       "      <td>2023-02-02</td>\n",
       "      <td>187.330002</td>\n",
       "      <td>196.750000</td>\n",
       "      <td>182.610001</td>\n",
       "      <td>188.270004</td>\n",
       "      <td>188.270004</td>\n",
       "      <td>217448300</td>\n",
       "    </tr>\n",
       "    <tr>\n",
       "      <th>3172</th>\n",
       "      <td>2023-02-03</td>\n",
       "      <td>183.949997</td>\n",
       "      <td>199.000000</td>\n",
       "      <td>183.690002</td>\n",
       "      <td>189.979996</td>\n",
       "      <td>189.979996</td>\n",
       "      <td>231684200</td>\n",
       "    </tr>\n",
       "    <tr>\n",
       "      <th>3173</th>\n",
       "      <td>2023-02-06</td>\n",
       "      <td>193.009995</td>\n",
       "      <td>198.169998</td>\n",
       "      <td>189.919998</td>\n",
       "      <td>194.759995</td>\n",
       "      <td>194.759995</td>\n",
       "      <td>186188100</td>\n",
       "    </tr>\n",
       "    <tr>\n",
       "      <th>3174</th>\n",
       "      <td>2023-02-07</td>\n",
       "      <td>196.429993</td>\n",
       "      <td>197.500000</td>\n",
       "      <td>189.550003</td>\n",
       "      <td>196.809998</td>\n",
       "      <td>196.809998</td>\n",
       "      <td>186010300</td>\n",
       "    </tr>\n",
       "    <tr>\n",
       "      <th>3175</th>\n",
       "      <td>2023-02-08</td>\n",
       "      <td>196.100006</td>\n",
       "      <td>203.000000</td>\n",
       "      <td>194.309998</td>\n",
       "      <td>201.289993</td>\n",
       "      <td>201.289993</td>\n",
       "      <td>180154500</td>\n",
       "    </tr>\n",
       "  </tbody>\n",
       "</table>\n",
       "<p>3176 rows × 7 columns</p>\n",
       "</div>"
      ],
      "text/plain": [
       "            Date        Open        High         Low       Close   Adj Close  \\\n",
       "0     2010-06-29    1.266667    1.666667    1.169333    1.592667    1.592667   \n",
       "1     2010-06-30    1.719333    2.028000    1.553333    1.588667    1.588667   \n",
       "2     2010-07-01    1.666667    1.728000    1.351333    1.464000    1.464000   \n",
       "3     2010-07-02    1.533333    1.540000    1.247333    1.280000    1.280000   \n",
       "4     2010-07-06    1.333333    1.333333    1.055333    1.074000    1.074000   \n",
       "...          ...         ...         ...         ...         ...         ...   \n",
       "3171  2023-02-02  187.330002  196.750000  182.610001  188.270004  188.270004   \n",
       "3172  2023-02-03  183.949997  199.000000  183.690002  189.979996  189.979996   \n",
       "3173  2023-02-06  193.009995  198.169998  189.919998  194.759995  194.759995   \n",
       "3174  2023-02-07  196.429993  197.500000  189.550003  196.809998  196.809998   \n",
       "3175  2023-02-08  196.100006  203.000000  194.309998  201.289993  201.289993   \n",
       "\n",
       "         Volume  \n",
       "0     281494500  \n",
       "1     257806500  \n",
       "2     123282000  \n",
       "3      77097000  \n",
       "4     103003500  \n",
       "...         ...  \n",
       "3171  217448300  \n",
       "3172  231684200  \n",
       "3173  186188100  \n",
       "3174  186010300  \n",
       "3175  180154500  \n",
       "\n",
       "[3176 rows x 7 columns]"
      ]
     },
     "execution_count": 6,
     "metadata": {},
     "output_type": "execute_result"
    }
   ],
   "source": [
    "df_tesla"
   ]
  },
  {
   "cell_type": "code",
   "execution_count": 11,
   "id": "823fc398",
   "metadata": {
    "scrolled": false
   },
   "outputs": [
    {
     "name": "stdout",
     "output_type": "stream",
     "text": [
      "<class 'pandas.core.frame.DataFrame'>\n",
      "RangeIndex: 3176 entries, 0 to 3175\n",
      "Data columns (total 7 columns):\n",
      " #   Column     Non-Null Count  Dtype  \n",
      "---  ------     --------------  -----  \n",
      " 0   Date       3176 non-null   object \n",
      " 1   Open       3176 non-null   float64\n",
      " 2   High       3176 non-null   float64\n",
      " 3   Low        3176 non-null   float64\n",
      " 4   Close      3176 non-null   float64\n",
      " 5   Adj Close  3176 non-null   float64\n",
      " 6   Volume     3176 non-null   int64  \n",
      "dtypes: float64(5), int64(1), object(1)\n",
      "memory usage: 173.8+ KB\n"
     ]
    }
   ],
   "source": [
    "df_tesla.info()"
   ]
  },
  {
   "cell_type": "code",
   "execution_count": 14,
   "id": "4bc890ef",
   "metadata": {},
   "outputs": [],
   "source": [
    "df_tesla['Date'] = pd.to_datetime(df_tesla['Date'])"
   ]
  },
  {
   "cell_type": "code",
   "execution_count": 15,
   "id": "523485da",
   "metadata": {
    "scrolled": true
   },
   "outputs": [
    {
     "name": "stdout",
     "output_type": "stream",
     "text": [
      "<class 'pandas.core.frame.DataFrame'>\n",
      "RangeIndex: 3176 entries, 0 to 3175\n",
      "Data columns (total 7 columns):\n",
      " #   Column     Non-Null Count  Dtype         \n",
      "---  ------     --------------  -----         \n",
      " 0   Date       3176 non-null   datetime64[ns]\n",
      " 1   Open       3176 non-null   float64       \n",
      " 2   High       3176 non-null   float64       \n",
      " 3   Low        3176 non-null   float64       \n",
      " 4   Close      3176 non-null   float64       \n",
      " 5   Adj Close  3176 non-null   float64       \n",
      " 6   Volume     3176 non-null   int64         \n",
      "dtypes: datetime64[ns](1), float64(5), int64(1)\n",
      "memory usage: 173.8 KB\n"
     ]
    }
   ],
   "source": [
    "df_tesla.info()"
   ]
  },
  {
   "cell_type": "code",
   "execution_count": 17,
   "id": "072133ba",
   "metadata": {
    "scrolled": false
   },
   "outputs": [
    {
     "data": {
      "text/html": [
       "<div>\n",
       "<style scoped>\n",
       "    .dataframe tbody tr th:only-of-type {\n",
       "        vertical-align: middle;\n",
       "    }\n",
       "\n",
       "    .dataframe tbody tr th {\n",
       "        vertical-align: top;\n",
       "    }\n",
       "\n",
       "    .dataframe thead th {\n",
       "        text-align: right;\n",
       "    }\n",
       "</style>\n",
       "<table border=\"1\" class=\"dataframe\">\n",
       "  <thead>\n",
       "    <tr style=\"text-align: right;\">\n",
       "      <th></th>\n",
       "      <th>Date</th>\n",
       "      <th>Open</th>\n",
       "      <th>High</th>\n",
       "      <th>Low</th>\n",
       "      <th>Close</th>\n",
       "      <th>Adj Close</th>\n",
       "      <th>Volume</th>\n",
       "    </tr>\n",
       "  </thead>\n",
       "  <tbody>\n",
       "    <tr>\n",
       "      <th>0</th>\n",
       "      <td>2010-06-29</td>\n",
       "      <td>1.266667</td>\n",
       "      <td>1.666667</td>\n",
       "      <td>1.169333</td>\n",
       "      <td>1.592667</td>\n",
       "      <td>1.592667</td>\n",
       "      <td>281494500</td>\n",
       "    </tr>\n",
       "    <tr>\n",
       "      <th>1</th>\n",
       "      <td>2010-06-30</td>\n",
       "      <td>1.719333</td>\n",
       "      <td>2.028000</td>\n",
       "      <td>1.553333</td>\n",
       "      <td>1.588667</td>\n",
       "      <td>1.588667</td>\n",
       "      <td>257806500</td>\n",
       "    </tr>\n",
       "    <tr>\n",
       "      <th>2</th>\n",
       "      <td>2010-07-01</td>\n",
       "      <td>1.666667</td>\n",
       "      <td>1.728000</td>\n",
       "      <td>1.351333</td>\n",
       "      <td>1.464000</td>\n",
       "      <td>1.464000</td>\n",
       "      <td>123282000</td>\n",
       "    </tr>\n",
       "    <tr>\n",
       "      <th>3</th>\n",
       "      <td>2010-07-02</td>\n",
       "      <td>1.533333</td>\n",
       "      <td>1.540000</td>\n",
       "      <td>1.247333</td>\n",
       "      <td>1.280000</td>\n",
       "      <td>1.280000</td>\n",
       "      <td>77097000</td>\n",
       "    </tr>\n",
       "    <tr>\n",
       "      <th>4</th>\n",
       "      <td>2010-07-06</td>\n",
       "      <td>1.333333</td>\n",
       "      <td>1.333333</td>\n",
       "      <td>1.055333</td>\n",
       "      <td>1.074000</td>\n",
       "      <td>1.074000</td>\n",
       "      <td>103003500</td>\n",
       "    </tr>\n",
       "    <tr>\n",
       "      <th>...</th>\n",
       "      <td>...</td>\n",
       "      <td>...</td>\n",
       "      <td>...</td>\n",
       "      <td>...</td>\n",
       "      <td>...</td>\n",
       "      <td>...</td>\n",
       "      <td>...</td>\n",
       "    </tr>\n",
       "    <tr>\n",
       "      <th>3171</th>\n",
       "      <td>2023-02-02</td>\n",
       "      <td>187.330002</td>\n",
       "      <td>196.750000</td>\n",
       "      <td>182.610001</td>\n",
       "      <td>188.270004</td>\n",
       "      <td>188.270004</td>\n",
       "      <td>217448300</td>\n",
       "    </tr>\n",
       "    <tr>\n",
       "      <th>3172</th>\n",
       "      <td>2023-02-03</td>\n",
       "      <td>183.949997</td>\n",
       "      <td>199.000000</td>\n",
       "      <td>183.690002</td>\n",
       "      <td>189.979996</td>\n",
       "      <td>189.979996</td>\n",
       "      <td>231684200</td>\n",
       "    </tr>\n",
       "    <tr>\n",
       "      <th>3173</th>\n",
       "      <td>2023-02-06</td>\n",
       "      <td>193.009995</td>\n",
       "      <td>198.169998</td>\n",
       "      <td>189.919998</td>\n",
       "      <td>194.759995</td>\n",
       "      <td>194.759995</td>\n",
       "      <td>186188100</td>\n",
       "    </tr>\n",
       "    <tr>\n",
       "      <th>3174</th>\n",
       "      <td>2023-02-07</td>\n",
       "      <td>196.429993</td>\n",
       "      <td>197.500000</td>\n",
       "      <td>189.550003</td>\n",
       "      <td>196.809998</td>\n",
       "      <td>196.809998</td>\n",
       "      <td>186010300</td>\n",
       "    </tr>\n",
       "    <tr>\n",
       "      <th>3175</th>\n",
       "      <td>2023-02-08</td>\n",
       "      <td>196.100006</td>\n",
       "      <td>203.000000</td>\n",
       "      <td>194.309998</td>\n",
       "      <td>201.289993</td>\n",
       "      <td>201.289993</td>\n",
       "      <td>180154500</td>\n",
       "    </tr>\n",
       "  </tbody>\n",
       "</table>\n",
       "<p>3176 rows × 7 columns</p>\n",
       "</div>"
      ],
      "text/plain": [
       "           Date        Open        High         Low       Close   Adj Close  \\\n",
       "0    2010-06-29    1.266667    1.666667    1.169333    1.592667    1.592667   \n",
       "1    2010-06-30    1.719333    2.028000    1.553333    1.588667    1.588667   \n",
       "2    2010-07-01    1.666667    1.728000    1.351333    1.464000    1.464000   \n",
       "3    2010-07-02    1.533333    1.540000    1.247333    1.280000    1.280000   \n",
       "4    2010-07-06    1.333333    1.333333    1.055333    1.074000    1.074000   \n",
       "...         ...         ...         ...         ...         ...         ...   \n",
       "3171 2023-02-02  187.330002  196.750000  182.610001  188.270004  188.270004   \n",
       "3172 2023-02-03  183.949997  199.000000  183.690002  189.979996  189.979996   \n",
       "3173 2023-02-06  193.009995  198.169998  189.919998  194.759995  194.759995   \n",
       "3174 2023-02-07  196.429993  197.500000  189.550003  196.809998  196.809998   \n",
       "3175 2023-02-08  196.100006  203.000000  194.309998  201.289993  201.289993   \n",
       "\n",
       "         Volume  \n",
       "0     281494500  \n",
       "1     257806500  \n",
       "2     123282000  \n",
       "3      77097000  \n",
       "4     103003500  \n",
       "...         ...  \n",
       "3171  217448300  \n",
       "3172  231684200  \n",
       "3173  186188100  \n",
       "3174  186010300  \n",
       "3175  180154500  \n",
       "\n",
       "[3176 rows x 7 columns]"
      ]
     },
     "execution_count": 17,
     "metadata": {},
     "output_type": "execute_result"
    }
   ],
   "source": [
    "df_tesla"
   ]
  },
  {
   "cell_type": "markdown",
   "id": "7cec1bda",
   "metadata": {},
   "source": [
    "**transform our Date columns to index**"
   ]
  },
  {
   "cell_type": "code",
   "execution_count": 25,
   "id": "ea060dcd",
   "metadata": {},
   "outputs": [],
   "source": [
    "df_tesla.set_index('Date', drop=True, inplace=True)"
   ]
  },
  {
   "cell_type": "code",
   "execution_count": 26,
   "id": "c8d25ba7",
   "metadata": {},
   "outputs": [
    {
     "data": {
      "text/html": [
       "<div>\n",
       "<style scoped>\n",
       "    .dataframe tbody tr th:only-of-type {\n",
       "        vertical-align: middle;\n",
       "    }\n",
       "\n",
       "    .dataframe tbody tr th {\n",
       "        vertical-align: top;\n",
       "    }\n",
       "\n",
       "    .dataframe thead th {\n",
       "        text-align: right;\n",
       "    }\n",
       "</style>\n",
       "<table border=\"1\" class=\"dataframe\">\n",
       "  <thead>\n",
       "    <tr style=\"text-align: right;\">\n",
       "      <th></th>\n",
       "      <th>Open</th>\n",
       "      <th>High</th>\n",
       "      <th>Low</th>\n",
       "      <th>Close</th>\n",
       "      <th>Adj Close</th>\n",
       "      <th>Volume</th>\n",
       "      <th>Open:10 days rolling</th>\n",
       "    </tr>\n",
       "    <tr>\n",
       "      <th>Date</th>\n",
       "      <th></th>\n",
       "      <th></th>\n",
       "      <th></th>\n",
       "      <th></th>\n",
       "      <th></th>\n",
       "      <th></th>\n",
       "      <th></th>\n",
       "    </tr>\n",
       "  </thead>\n",
       "  <tbody>\n",
       "    <tr>\n",
       "      <th>2010-06-29</th>\n",
       "      <td>1.266667</td>\n",
       "      <td>1.666667</td>\n",
       "      <td>1.169333</td>\n",
       "      <td>1.592667</td>\n",
       "      <td>1.592667</td>\n",
       "      <td>281494500</td>\n",
       "      <td>1.266667</td>\n",
       "    </tr>\n",
       "    <tr>\n",
       "      <th>2010-06-30</th>\n",
       "      <td>1.719333</td>\n",
       "      <td>2.028000</td>\n",
       "      <td>1.553333</td>\n",
       "      <td>1.588667</td>\n",
       "      <td>1.588667</td>\n",
       "      <td>257806500</td>\n",
       "      <td>1.493000</td>\n",
       "    </tr>\n",
       "    <tr>\n",
       "      <th>2010-07-01</th>\n",
       "      <td>1.666667</td>\n",
       "      <td>1.728000</td>\n",
       "      <td>1.351333</td>\n",
       "      <td>1.464000</td>\n",
       "      <td>1.464000</td>\n",
       "      <td>123282000</td>\n",
       "      <td>1.550889</td>\n",
       "    </tr>\n",
       "    <tr>\n",
       "      <th>2010-07-02</th>\n",
       "      <td>1.533333</td>\n",
       "      <td>1.540000</td>\n",
       "      <td>1.247333</td>\n",
       "      <td>1.280000</td>\n",
       "      <td>1.280000</td>\n",
       "      <td>77097000</td>\n",
       "      <td>1.546500</td>\n",
       "    </tr>\n",
       "    <tr>\n",
       "      <th>2010-07-06</th>\n",
       "      <td>1.333333</td>\n",
       "      <td>1.333333</td>\n",
       "      <td>1.055333</td>\n",
       "      <td>1.074000</td>\n",
       "      <td>1.074000</td>\n",
       "      <td>103003500</td>\n",
       "      <td>1.503867</td>\n",
       "    </tr>\n",
       "    <tr>\n",
       "      <th>...</th>\n",
       "      <td>...</td>\n",
       "      <td>...</td>\n",
       "      <td>...</td>\n",
       "      <td>...</td>\n",
       "      <td>...</td>\n",
       "      <td>...</td>\n",
       "      <td>...</td>\n",
       "    </tr>\n",
       "    <tr>\n",
       "      <th>2023-02-02</th>\n",
       "      <td>187.330002</td>\n",
       "      <td>196.750000</td>\n",
       "      <td>182.610001</td>\n",
       "      <td>188.270004</td>\n",
       "      <td>188.270004</td>\n",
       "      <td>217448300</td>\n",
       "      <td>157.570000</td>\n",
       "    </tr>\n",
       "    <tr>\n",
       "      <th>2023-02-03</th>\n",
       "      <td>183.949997</td>\n",
       "      <td>199.000000</td>\n",
       "      <td>183.690002</td>\n",
       "      <td>189.979996</td>\n",
       "      <td>189.979996</td>\n",
       "      <td>231684200</td>\n",
       "      <td>163.097000</td>\n",
       "    </tr>\n",
       "    <tr>\n",
       "      <th>2023-02-06</th>\n",
       "      <td>193.009995</td>\n",
       "      <td>198.169998</td>\n",
       "      <td>189.919998</td>\n",
       "      <td>194.759995</td>\n",
       "      <td>194.759995</td>\n",
       "      <td>186188100</td>\n",
       "      <td>168.811000</td>\n",
       "    </tr>\n",
       "    <tr>\n",
       "      <th>2023-02-07</th>\n",
       "      <td>196.429993</td>\n",
       "      <td>197.500000</td>\n",
       "      <td>189.550003</td>\n",
       "      <td>196.809998</td>\n",
       "      <td>196.809998</td>\n",
       "      <td>186010300</td>\n",
       "      <td>174.153999</td>\n",
       "    </tr>\n",
       "    <tr>\n",
       "      <th>2023-02-08</th>\n",
       "      <td>196.100006</td>\n",
       "      <td>203.000000</td>\n",
       "      <td>194.309998</td>\n",
       "      <td>201.289993</td>\n",
       "      <td>201.289993</td>\n",
       "      <td>180154500</td>\n",
       "      <td>179.573000</td>\n",
       "    </tr>\n",
       "  </tbody>\n",
       "</table>\n",
       "<p>3176 rows × 7 columns</p>\n",
       "</div>"
      ],
      "text/plain": [
       "                  Open        High         Low       Close   Adj Close  \\\n",
       "Date                                                                     \n",
       "2010-06-29    1.266667    1.666667    1.169333    1.592667    1.592667   \n",
       "2010-06-30    1.719333    2.028000    1.553333    1.588667    1.588667   \n",
       "2010-07-01    1.666667    1.728000    1.351333    1.464000    1.464000   \n",
       "2010-07-02    1.533333    1.540000    1.247333    1.280000    1.280000   \n",
       "2010-07-06    1.333333    1.333333    1.055333    1.074000    1.074000   \n",
       "...                ...         ...         ...         ...         ...   \n",
       "2023-02-02  187.330002  196.750000  182.610001  188.270004  188.270004   \n",
       "2023-02-03  183.949997  199.000000  183.690002  189.979996  189.979996   \n",
       "2023-02-06  193.009995  198.169998  189.919998  194.759995  194.759995   \n",
       "2023-02-07  196.429993  197.500000  189.550003  196.809998  196.809998   \n",
       "2023-02-08  196.100006  203.000000  194.309998  201.289993  201.289993   \n",
       "\n",
       "               Volume  Open:10 days rolling  \n",
       "Date                                         \n",
       "2010-06-29  281494500              1.266667  \n",
       "2010-06-30  257806500              1.493000  \n",
       "2010-07-01  123282000              1.550889  \n",
       "2010-07-02   77097000              1.546500  \n",
       "2010-07-06  103003500              1.503867  \n",
       "...               ...                   ...  \n",
       "2023-02-02  217448300            157.570000  \n",
       "2023-02-03  231684200            163.097000  \n",
       "2023-02-06  186188100            168.811000  \n",
       "2023-02-07  186010300            174.153999  \n",
       "2023-02-08  180154500            179.573000  \n",
       "\n",
       "[3176 rows x 7 columns]"
      ]
     },
     "execution_count": 26,
     "metadata": {},
     "output_type": "execute_result"
    }
   ],
   "source": [
    "df_tesla"
   ]
  },
  {
   "cell_type": "markdown",
   "id": "c5dfca2c",
   "metadata": {},
   "source": [
    "**Simple moving average**"
   ]
  },
  {
   "cell_type": "code",
   "execution_count": 27,
   "id": "742881e6",
   "metadata": {},
   "outputs": [
    {
     "data": {
      "text/plain": [
       "<AxesSubplot:xlabel='Date'>"
      ]
     },
     "execution_count": 27,
     "metadata": {},
     "output_type": "execute_result"
    },
    {
     "data": {
      "image/png": "[encoded data removed]",
      "text/plain": [
       "<Figure size 1008x432 with 1 Axes>"
      ]
     },
     "metadata": {
      "needs_background": "light"
     },
     "output_type": "display_data"
    }
   ],
   "source": [
    "df_tesla['Open'].plot(figsize=(14,6))"
   ]
  },
  {
   "cell_type": "code",
   "execution_count": 28,
   "id": "5089d2c6",
   "metadata": {},
   "outputs": [],
   "source": [
    "df_tesla[\"Open:10 days rolling\"] = df_tesla['Open'].rolling(window=10, min_periods=1).mean()"
   ]
  },
  {
   "cell_type": "code",
   "execution_count": 29,
   "id": "dd1ab3d5",
   "metadata": {},
   "outputs": [
    {
     "data": {
      "text/html": [
       "<div>\n",
       "<style scoped>\n",
       "    .dataframe tbody tr th:only-of-type {\n",
       "        vertical-align: middle;\n",
       "    }\n",
       "\n",
       "    .dataframe tbody tr th {\n",
       "        vertical-align: top;\n",
       "    }\n",
       "\n",
       "    .dataframe thead th {\n",
       "        text-align: right;\n",
       "    }\n",
       "</style>\n",
       "<table border=\"1\" class=\"dataframe\">\n",
       "  <thead>\n",
       "    <tr style=\"text-align: right;\">\n",
       "      <th></th>\n",
       "      <th>Open</th>\n",
       "      <th>High</th>\n",
       "      <th>Low</th>\n",
       "      <th>Close</th>\n",
       "      <th>Adj Close</th>\n",
       "      <th>Volume</th>\n",
       "      <th>Open:10 days rolling</th>\n",
       "    </tr>\n",
       "    <tr>\n",
       "      <th>Date</th>\n",
       "      <th></th>\n",
       "      <th></th>\n",
       "      <th></th>\n",
       "      <th></th>\n",
       "      <th></th>\n",
       "      <th></th>\n",
       "      <th></th>\n",
       "    </tr>\n",
       "  </thead>\n",
       "  <tbody>\n",
       "    <tr>\n",
       "      <th>2010-06-29</th>\n",
       "      <td>1.266667</td>\n",
       "      <td>1.666667</td>\n",
       "      <td>1.169333</td>\n",
       "      <td>1.592667</td>\n",
       "      <td>1.592667</td>\n",
       "      <td>281494500</td>\n",
       "      <td>1.266667</td>\n",
       "    </tr>\n",
       "    <tr>\n",
       "      <th>2010-06-30</th>\n",
       "      <td>1.719333</td>\n",
       "      <td>2.028000</td>\n",
       "      <td>1.553333</td>\n",
       "      <td>1.588667</td>\n",
       "      <td>1.588667</td>\n",
       "      <td>257806500</td>\n",
       "      <td>1.493000</td>\n",
       "    </tr>\n",
       "    <tr>\n",
       "      <th>2010-07-01</th>\n",
       "      <td>1.666667</td>\n",
       "      <td>1.728000</td>\n",
       "      <td>1.351333</td>\n",
       "      <td>1.464000</td>\n",
       "      <td>1.464000</td>\n",
       "      <td>123282000</td>\n",
       "      <td>1.550889</td>\n",
       "    </tr>\n",
       "    <tr>\n",
       "      <th>2010-07-02</th>\n",
       "      <td>1.533333</td>\n",
       "      <td>1.540000</td>\n",
       "      <td>1.247333</td>\n",
       "      <td>1.280000</td>\n",
       "      <td>1.280000</td>\n",
       "      <td>77097000</td>\n",
       "      <td>1.546500</td>\n",
       "    </tr>\n",
       "    <tr>\n",
       "      <th>2010-07-06</th>\n",
       "      <td>1.333333</td>\n",
       "      <td>1.333333</td>\n",
       "      <td>1.055333</td>\n",
       "      <td>1.074000</td>\n",
       "      <td>1.074000</td>\n",
       "      <td>103003500</td>\n",
       "      <td>1.503867</td>\n",
       "    </tr>\n",
       "    <tr>\n",
       "      <th>...</th>\n",
       "      <td>...</td>\n",
       "      <td>...</td>\n",
       "      <td>...</td>\n",
       "      <td>...</td>\n",
       "      <td>...</td>\n",
       "      <td>...</td>\n",
       "      <td>...</td>\n",
       "    </tr>\n",
       "    <tr>\n",
       "      <th>2023-02-02</th>\n",
       "      <td>187.330002</td>\n",
       "      <td>196.750000</td>\n",
       "      <td>182.610001</td>\n",
       "      <td>188.270004</td>\n",
       "      <td>188.270004</td>\n",
       "      <td>217448300</td>\n",
       "      <td>157.570000</td>\n",
       "    </tr>\n",
       "    <tr>\n",
       "      <th>2023-02-03</th>\n",
       "      <td>183.949997</td>\n",
       "      <td>199.000000</td>\n",
       "      <td>183.690002</td>\n",
       "      <td>189.979996</td>\n",
       "      <td>189.979996</td>\n",
       "      <td>231684200</td>\n",
       "      <td>163.097000</td>\n",
       "    </tr>\n",
       "    <tr>\n",
       "      <th>2023-02-06</th>\n",
       "      <td>193.009995</td>\n",
       "      <td>198.169998</td>\n",
       "      <td>189.919998</td>\n",
       "      <td>194.759995</td>\n",
       "      <td>194.759995</td>\n",
       "      <td>186188100</td>\n",
       "      <td>168.811000</td>\n",
       "    </tr>\n",
       "    <tr>\n",
       "      <th>2023-02-07</th>\n",
       "      <td>196.429993</td>\n",
       "      <td>197.500000</td>\n",
       "      <td>189.550003</td>\n",
       "      <td>196.809998</td>\n",
       "      <td>196.809998</td>\n",
       "      <td>186010300</td>\n",
       "      <td>174.153999</td>\n",
       "    </tr>\n",
       "    <tr>\n",
       "      <th>2023-02-08</th>\n",
       "      <td>196.100006</td>\n",
       "      <td>203.000000</td>\n",
       "      <td>194.309998</td>\n",
       "      <td>201.289993</td>\n",
       "      <td>201.289993</td>\n",
       "      <td>180154500</td>\n",
       "      <td>179.573000</td>\n",
       "    </tr>\n",
       "  </tbody>\n",
       "</table>\n",
       "<p>3176 rows × 7 columns</p>\n",
       "</div>"
      ],
      "text/plain": [
       "                  Open        High         Low       Close   Adj Close  \\\n",
       "Date                                                                     \n",
       "2010-06-29    1.266667    1.666667    1.169333    1.592667    1.592667   \n",
       "2010-06-30    1.719333    2.028000    1.553333    1.588667    1.588667   \n",
       "2010-07-01    1.666667    1.728000    1.351333    1.464000    1.464000   \n",
       "2010-07-02    1.533333    1.540000    1.247333    1.280000    1.280000   \n",
       "2010-07-06    1.333333    1.333333    1.055333    1.074000    1.074000   \n",
       "...                ...         ...         ...         ...         ...   \n",
       "2023-02-02  187.330002  196.750000  182.610001  188.270004  188.270004   \n",
       "2023-02-03  183.949997  199.000000  183.690002  189.979996  189.979996   \n",
       "2023-02-06  193.009995  198.169998  189.919998  194.759995  194.759995   \n",
       "2023-02-07  196.429993  197.500000  189.550003  196.809998  196.809998   \n",
       "2023-02-08  196.100006  203.000000  194.309998  201.289993  201.289993   \n",
       "\n",
       "               Volume  Open:10 days rolling  \n",
       "Date                                         \n",
       "2010-06-29  281494500              1.266667  \n",
       "2010-06-30  257806500              1.493000  \n",
       "2010-07-01  123282000              1.550889  \n",
       "2010-07-02   77097000              1.546500  \n",
       "2010-07-06  103003500              1.503867  \n",
       "...               ...                   ...  \n",
       "2023-02-02  217448300            157.570000  \n",
       "2023-02-03  231684200            163.097000  \n",
       "2023-02-06  186188100            168.811000  \n",
       "2023-02-07  186010300            174.153999  \n",
       "2023-02-08  180154500            179.573000  \n",
       "\n",
       "[3176 rows x 7 columns]"
      ]
     },
     "execution_count": 29,
     "metadata": {},
     "output_type": "execute_result"
    }
   ],
   "source": [
    "df_tesla"
   ]
  },
  {
   "cell_type": "code",
   "execution_count": 35,
   "id": "9d5b98bb",
   "metadata": {},
   "outputs": [
    {
     "data": {
      "text/plain": [
       "<AxesSubplot:xlabel='Date'>"
      ]
     },
     "execution_count": 35,
     "metadata": {},
     "output_type": "execute_result"
    },
    {
     "data": {
      "image/png": "[encoded data removed]",
      "text/plain": [
       "<Figure size 1008x432 with 1 Axes>"
      ]
     },
     "metadata": {
      "needs_background": "light"
     },
     "output_type": "display_data"
    }
   ],
   "source": [
    "df_tesla[['Open', 'Open:10 days rolling']].plot(xlim=['2020-01-01','2021-01-01'], figsize=(14,6))"
   ]
  },
  {
   "cell_type": "markdown",
   "id": "28f56d4a",
   "metadata": {},
   "source": [
    "**Disadvantages to simple moving average SMA**\n",
    "  - Similar important to all the data cause our main idea in time series we should give more importance to recent data\n"
   ]
  },
  {
   "cell_type": "markdown",
   "id": "4959a032",
   "metadata": {},
   "source": [
    "**Cumulative moving average**"
   ]
  },
  {
   "cell_type": "code",
   "execution_count": 38,
   "id": "2807c3a0",
   "metadata": {},
   "outputs": [
    {
     "data": {
      "text/plain": [
       "<AxesSubplot:xlabel='Date'>"
      ]
     },
     "execution_count": 38,
     "metadata": {},
     "output_type": "execute_result"
    },
    {
     "data": {
      "image/png": "[encoded data removed]",
      "text/plain": [
       "<Figure size 1008x432 with 1 Axes>"
      ]
     },
     "metadata": {
      "needs_background": "light"
     },
     "output_type": "display_data"
    }
   ],
   "source": [
    "df_tesla['Open'].expanding().mean().plot(figsize=(14,6), c=\"b\")"
   ]
  },
  {
   "cell_type": "markdown",
   "id": "1a312d3c",
   "metadata": {},
   "source": [
    "**EWMA - Exponential Weighted Moving Average**"
   ]
  },
  {
   "cell_type": "code",
   "execution_count": 39,
   "id": "7016fbc4",
   "metadata": {},
   "outputs": [],
   "source": [
    "## EMA Tesla Shares\n",
    "# lets smoothing factore - 0.1\n",
    "df_tesla['EMA_0.1'] = df_tesla['Open'].ewm(alpha= 0.1, adjust=False).mean()"
   ]
  },
  {
   "cell_type": "code",
   "execution_count": 41,
   "id": "4b1a36ba",
   "metadata": {},
   "outputs": [
    {
     "data": {
      "text/plain": [
       "<AxesSubplot:xlabel='Date'>"
      ]
     },
     "execution_count": 41,
     "metadata": {},
     "output_type": "execute_result"
    },
    {
     "data": {
      "image/png": "[encoded data removed]",
      "text/plain": [
       "<Figure size 1008x432 with 1 Axes>"
      ]
     },
     "metadata": {
      "needs_background": "light"
     },
     "output_type": "display_data"
    }
   ],
   "source": [
    "df_tesla[['Open', 'EMA_0.1']].plot(xlim=['2020-01-01','2021-01-01'], figsize=(14,6))"
   ]
  },
  {
   "cell_type": "code",
   "execution_count": 42,
   "id": "c4ca318d",
   "metadata": {},
   "outputs": [],
   "source": [
    "## EWMA"
   ]
  },
  {
   "cell_type": "code",
   "execution_count": 49,
   "id": "38e1061e",
   "metadata": {},
   "outputs": [],
   "source": [
    "df_tesla['EMA_5Days'] = df_tesla['Open'].ewm(span=5).mean()"
   ]
  },
  {
   "cell_type": "code",
   "execution_count": 50,
   "id": "325ec6e3",
   "metadata": {},
   "outputs": [
    {
     "data": {
      "text/plain": [
       "<AxesSubplot:xlabel='Date'>"
      ]
     },
     "execution_count": 50,
     "metadata": {},
     "output_type": "execute_result"
    },
    {
     "data": {
      "image/png": "[encoded data removed]",
      "text/plain": [
       "<Figure size 1008x432 with 1 Axes>"
      ]
     },
     "metadata": {
      "needs_background": "light"
     },
     "output_type": "display_data"
    }
   ],
   "source": [
    "df_tesla[['Open', 'EMA_0.1', 'EMA_5Days']].plot(xlim=['2020-01-01','2021-01-01'], figsize=(14,6))"
   ]
  },
  {
   "cell_type": "code",
   "execution_count": null,
   "id": "78072a32",
   "metadata": {},
   "outputs": [],
   "source": []
  }
 ],
 "metadata": {
  "kernelspec": {
   "display_name": "Python 3 (ipykernel)",
   "language": "python",
   "name": "python3"
  },
  "language_info": {
   "codemirror_mode": {
    "name": "ipython",
    "version": 3
   },
   "file_extension": ".py",
   "mimetype": "text/x-python",
   "name": "python",
   "nbconvert_exporter": "python",
   "pygments_lexer": "ipython3",
   "version": "3.9.7"
  }
 },
 "nbformat": 4,
 "nbformat_minor": 5
}
